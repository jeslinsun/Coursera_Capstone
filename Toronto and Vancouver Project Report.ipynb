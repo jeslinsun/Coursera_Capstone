{
 "cells": [
  {
   "cell_type": "markdown",
   "metadata": {},
   "source": [
    "# Toronto and Vancouver Project Report"
   ]
  },
  {
   "cell_type": "markdown",
   "metadata": {},
   "source": [
    "##  Introduction/Business Problem "
   ]
  },
  {
   "cell_type": "markdown",
   "metadata": {},
   "source": [
    "One friend currently lives in Toronto intends to move to Vancouver with an offer of new job. He is very happy with the current place he lives now - postcode area M6G (neighbourhood Christine) in Downtown Toronto, with many gocery stors, parks, and coffee shops around. \n",
    "\n",
    "He wants to know in Vancouver what are the post code areas have similar surroundings, so that he will be able to choose one of these post code areas where he can live with the similar comforts as he has in Downtown Toronto M6G, and at the same time, among those choices, to pick one post code area near to his new workplace.\n",
    "\n",
    "The sitution of my fiends is very common in modern society. For various reasons, nowadays quite often people need to move from one place to another, could be to different cities, or different states or even different countries where they may not be familiar with. If they can see the comparability of the old place and potential new places in terms of surrounding venues, it will be very helpful for them to find the suitable new place similar to their current living place, so that they will be more comfortable to make that decision and move into the new place.\n",
    "\n",
    "In the case of my friend, we get fetch the Foursquare location data with venue information like venue categories for different post code area of Toronto and Vancouver, and find the post code areas in Vancouver where have the similar venue categories like in Christine, i.e. with more grocery stores, coffess shops and parks nearby. Actually we can check the surrounding venue categories for any locations through Foursquare data, and it is possible we can do the comparison or grouping or clustering of any places, which can help people to make the right choice when they need to move from one place to another.\n",
    "\n",
    "In this report, we will focus on the clustering of different post code areas of Toronto and Vancouver in terms of the frequency of their surrounding venue categories."
   ]
  },
  {
   "cell_type": "markdown",
   "metadata": {},
   "source": [
    "##  Data \n",
    "\n",
    "To do the analysis describles above, first of all we need the location data of both Toronto and Vancouver post code area. We can get three letter post codes and Borough and neighbourhood information via https://en.wikipedia.org/. Then we need to get the Latitude and Longitude information of those post code areas, which will be feeded into our fetch of Foursquare location data. \n",
    "\n",
    "Foursquare data have many types of location data for developers to access with, like searching different kinds of venue nearby like restaurant, cinema, etc, given a location, and access to Foursquare users' profile data and their commentary on the other location, or digging out more about one specific venue, like for one particular coffee shop, what is their special offer, people's comments on that coffee shop, or exploring trending venues around a given location, i.e. the venues with the highest foot traffic at the time, etc.\n",
    "\n",
    "In our analysis, we will be sending the venue explore request request to Foursquare database. Venue exploring is a regular call to the API, and with free personal developer accounnt, we can make up to approximately 99 thousand regular calls per day. Venue explore will return the list of popular spots around the location. The information about those spots or venues will include venue id, name, its latitude, longitude, address, distance, location, photo, category and referral information, etc.\n",
    "\n",
    "In our anaysis, we will extract the number of surrounding venues and venue category information by sending explore request to API for the postcode areas of both Tonoroto and Vancouver. With those data, we can then get the frequency of different venue categories occured nearby each postcode area of these two cities, and then try different algorithem to cluster those postcode areas into different group and find the similar postcode area as the postcode area M6G.\n"
   ]
  }
 ],
 "metadata": {
  "kernelspec": {
   "display_name": "Python 3",
   "language": "python",
   "name": "python3"
  },
  "language_info": {
   "codemirror_mode": {
    "name": "ipython",
    "version": 3
   },
   "file_extension": ".py",
   "mimetype": "text/x-python",
   "name": "python",
   "nbconvert_exporter": "python",
   "pygments_lexer": "ipython3",
   "version": "3.8.5"
  }
 },
 "nbformat": 4,
 "nbformat_minor": 4
}
